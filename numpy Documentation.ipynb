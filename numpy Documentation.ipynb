{
 "cells": [
  {
   "cell_type": "code",
   "execution_count": 6,
   "metadata": {
    "collapsed": true
   },
   "outputs": [],
   "source": [
    "import numpy as np"
   ]
  },
  {
   "cell_type": "code",
   "execution_count": 7,
   "metadata": {},
   "outputs": [
    {
     "data": {
      "text/plain": [
       "array([1, 2, 3])"
      ]
     },
     "execution_count": 7,
     "metadata": {},
     "output_type": "execute_result"
    }
   ],
   "source": [
    "x = np.array([1,2,3])     \n",
    "#note how we use both paranthesis and square brackets\n",
    "x"
   ]
  },
  {
   "cell_type": "code",
   "execution_count": 15,
   "metadata": {},
   "outputs": [
    {
     "name": "stdout",
     "output_type": "stream",
     "text": [
      "[[1 2 3]\n",
      " [4 5 6]\n",
      " [7 8 9]]\n",
      "------- A blank line ----------\n"
     ]
    },
    {
     "data": {
      "text/plain": [
       "(3, 3)"
      ]
     },
     "execution_count": 15,
     "metadata": {},
     "output_type": "execute_result"
    }
   ],
   "source": [
    "# use of shape for 2-d arrays\n",
    "m = np.array([[1,2,3],[4,5,6],[7,8,9]])\n",
    "print(m)\n",
    "print('------- A blank line ----------')\n",
    "m.shape"
   ]
  },
  {
   "cell_type": "code",
   "execution_count": 21,
   "metadata": {},
   "outputs": [
    {
     "name": "stdout",
     "output_type": "stream",
     "text": [
      "[ 0  2  4  6  8 10 12 14 16 18 20 22 24 26 28]\n"
     ]
    }
   ],
   "source": [
    "# iterations\n",
    "\n",
    "m = np.arange(0,30,2)\n",
    "print(m)\n",
    "\n",
    "#  syntax : arange(start,stop,steps)\n",
    "# note stop, denotes (<) and not (<=)"
   ]
  },
  {
   "cell_type": "code",
   "execution_count": 23,
   "metadata": {},
   "outputs": [
    {
     "data": {
      "text/plain": [
       "array([[ 0,  2,  4,  6,  8],\n",
       "       [10, 12, 14, 16, 18],\n",
       "       [20, 22, 24, 26, 28]])"
      ]
     },
     "execution_count": 23,
     "metadata": {},
     "output_type": "execute_result"
    }
   ],
   "source": [
    "m.reshape(3,5)\n",
    "\n",
    "# use reshape to resize the array to a conformable type"
   ]
  },
  {
   "cell_type": "code",
   "execution_count": 28,
   "metadata": {},
   "outputs": [
    {
     "name": "stdout",
     "output_type": "stream",
     "text": [
      "[ 0.   0.5  1.   1.5  2.   2.5  3.   3.5  4. ]\n"
     ]
    }
   ],
   "source": [
    "# Equally spacing out a specific interval\n",
    "\n",
    "o = np.linspace(0, 4, 9)\n",
    "print(o)\n",
    "\n",
    "# syntax : (start, stop,  no_of_intervals_to_divide_into)\n",
    "# note that it is LINspace and not LINEspace"
   ]
  },
  {
   "cell_type": "code",
   "execution_count": 32,
   "metadata": {},
   "outputs": [
    {
     "name": "stdout",
     "output_type": "stream",
     "text": [
      "[[ 0.  0.  0.]\n",
      " [ 0.  0.  0.]]\n",
      "[[ 1.  1.  1.]\n",
      " [ 1.  1.  1.]]\n",
      "[[ 1.  0.  0.]\n",
      " [ 0.  1.  0.]\n",
      " [ 0.  0.  1.]]\n"
     ]
    }
   ],
   "source": [
    "z = np.zeros((2,3))\n",
    "o = np.ones((2,3))\n",
    "i = np.eye(3)\n",
    "\n",
    "print(z)\n",
    "print(o)\n",
    "print(i)\n",
    "#creating a numpy array of zeroes, ones and identity matrices\n",
    "#note zeros and not ZEROES"
   ]
  },
  {
   "cell_type": "code",
   "execution_count": 33,
   "metadata": {},
   "outputs": [
    {
     "name": "stdout",
     "output_type": "stream",
     "text": [
      "[1 2 3 1 2 3 1 2 3]\n",
      "[1 1 1 2 2 2 3 3 3]\n"
     ]
    }
   ],
   "source": [
    "n1 = np.array([1,2,3]*3)\n",
    "print(n1)\n",
    "\n",
    "#is not exactly same as\n",
    "\n",
    "n2 = np.repeat([1,2,3], 3)\n",
    "print(n2)"
   ]
  },
  {
   "cell_type": "code",
   "execution_count": 9,
   "metadata": {},
   "outputs": [
    {
     "name": "stdout",
     "output_type": "stream",
     "text": [
      "[[1 1 1]\n",
      " [1 1 1]]\n",
      "-----------And now, vertical----------\n",
      "[[1 1 1]\n",
      " [1 1 1]\n",
      " [2 2 2]\n",
      " [2 2 2]]\n",
      "---------------And now, horizontal-----------------\n",
      "[[1 1 1 2 2 2]\n",
      " [1 1 1 2 2 2]\n",
      " [2 2 2 4 4 4]\n",
      " [2 2 2 4 4 4]]\n"
     ]
    }
   ],
   "source": [
    "# vstack and hstack for stacking arrays vertically and horizontally respectively\n",
    "import numpy as np\n",
    "p = np.ones([2,3], int)\n",
    "print(p)\n",
    "\n",
    "print(\"-----------And now, vertical----------\")\n",
    "\n",
    "p = np.vstack([p, 2*p])\n",
    "print(p)\n",
    "\n",
    "print(\"---------------And now, horizontal-----------------\")\n",
    "\n",
    "p = np.hstack([p, 2*p])\n",
    "print(p)"
   ]
  },
  {
   "cell_type": "markdown",
   "metadata": {},
   "source": [
    "## Numpy arithmetic operations "
   ]
  },
  {
   "cell_type": "markdown",
   "metadata": {},
   "source": [
    "We can use `+`, `-`, `*`, `/` and `**` to perform element wise addition, subtraction, multiplication, division and power."
   ]
  },
  {
   "cell_type": "code",
   "execution_count": 14,
   "metadata": {},
   "outputs": [
    {
     "name": "stdout",
     "output_type": "stream",
     "text": [
      "[5 7 9]\n",
      "[-3 -3 -3]\n"
     ]
    }
   ],
   "source": [
    "# suppose x and y be 2 matrices\n",
    "m = [1,2,3]\n",
    "n = [4,5,6]\n",
    "\n",
    "x = np.array(m)\n",
    "y = np.array(n)\n",
    "\n",
    "print(x + y)\n",
    "print(x - y)"
   ]
  },
  {
   "cell_type": "code",
   "execution_count": 16,
   "metadata": {},
   "outputs": [
    {
     "name": "stdout",
     "output_type": "stream",
     "text": [
      "[ 4 10 18]\n",
      "[ 0.25  0.4   0.5 ]\n"
     ]
    }
   ],
   "source": [
    "print(x*y)\n",
    "print(x/y)"
   ]
  },
  {
   "cell_type": "code",
   "execution_count": 21,
   "metadata": {},
   "outputs": [
    {
     "data": {
      "text/plain": [
       "32"
      ]
     },
     "execution_count": 21,
     "metadata": {},
     "output_type": "execute_result"
    }
   ],
   "source": [
    "# the matrix scalar multiplication is the same here, just notice the syntax usage\n",
    "\n",
    "x.dot(y)\n",
    "\n"
   ]
  },
  {
   "cell_type": "code",
   "execution_count": 27,
   "metadata": {},
   "outputs": [
    {
     "name": "stdout",
     "output_type": "stream",
     "text": [
      "[[ 4  5  6]\n",
      " [16 25 36]]\n",
      "--------- After the effects-------------\n",
      "[[ 4 16]\n",
      " [ 5 25]\n",
      " [ 6 36]]\n",
      "(3, 2)\n",
      "(2, 3)\n"
     ]
    }
   ],
   "source": [
    "# and so is the transpose operations involved\n",
    "\n",
    "z = np.array([y, y**2])\n",
    "print(z)\n",
    "\n",
    "print(\"--------- After the effects-------------\")\n",
    "\n",
    "print(z.T)\n",
    "\n",
    "print(z.T.shape)\n",
    "\n",
    "print(z.shape)"
   ]
  },
  {
   "cell_type": "code",
   "execution_count": 32,
   "metadata": {},
   "outputs": [
    {
     "name": "stdout",
     "output_type": "stream",
     "text": [
      "[1 2 3]\n",
      "6\n",
      "2.0\n",
      "0.816496580928\n",
      "2\n",
      "0\n"
     ]
    }
   ],
   "source": [
    "print(x)\n",
    "\n",
    "print(x.sum())\n",
    "\n",
    "print(x.mean())\n",
    "\n",
    "print(x.std())\n",
    "\n",
    "\n",
    "# argmax and argmin return the index of the minimum and maximum elements\n",
    "\n",
    "print(x.argmax())\n",
    "\n",
    "print(x.argmin())"
   ]
  },
  {
   "cell_type": "markdown",
   "metadata": {},
   "source": [
    "Indexing and slicing examples\n",
    "\n",
    "General Syntax : array[start:stop:stepsize]\n",
    "\n",
    "Providing all the parameters is optional(U may leave some or all, if u want)"
   ]
  },
  {
   "cell_type": "code",
   "execution_count": 34,
   "metadata": {},
   "outputs": [
    {
     "name": "stdout",
     "output_type": "stream",
     "text": [
      "[ 0  1  2  3  4  5  6  7  8  9 10 11 12 13 14 15 16 17 18 19 20 21 22 23 24\n",
      " 25 26 27 28 29 30 31 32 33 34 35]\n",
      "[[ 0  1  2  3  4  5]\n",
      " [ 6  7  8  9 10 11]\n",
      " [12 13 14 15 16 17]\n",
      " [18 19 20 21 22 23]\n",
      " [24 25 26 27 28 29]\n",
      " [30 31 32 33 34 35]]\n"
     ]
    }
   ],
   "source": [
    "r = np.arange(36)\n",
    "\n",
    "print(r)\n",
    "\n",
    "r.resize(6,6)\n",
    "print(r)"
   ]
  },
  {
   "cell_type": "code",
   "execution_count": 45,
   "metadata": {},
   "outputs": [
    {
     "name": "stdout",
     "output_type": "stream",
     "text": [
      "14\n",
      "------------------\n",
      "[[18 19 20 21 22 23]\n",
      " [24 25 26 27 28 29]\n",
      " [30 31 32 33 34 35]]\n",
      "------------------\n",
      "[21 22 23]\n",
      "------------------\n",
      "[30 32 34]\n"
     ]
    }
   ],
   "source": [
    "print(r[2,2])\n",
    "\n",
    "print(\"------------------\")\n",
    "\n",
    "print(r[3:])\n",
    "\n",
    "print(\"------------------\")\n",
    "\n",
    "print(r[3, 3:6])\n",
    "\n",
    "print(\"------------------\")\n",
    "\n",
    "print(r[-1, ::2])\n",
    "\n",
    "# recall step of the syntax, that is used over here"
   ]
  },
  {
   "cell_type": "markdown",
   "metadata": {},
   "source": [
    "### Extra features and iterations"
   ]
  },
  {
   "cell_type": "code",
   "execution_count": 62,
   "metadata": {},
   "outputs": [
    {
     "name": "stdout",
     "output_type": "stream",
     "text": [
      "[[9 8 7 4]\n",
      " [5 4 9 6]\n",
      " [9 0 7 8]\n",
      " [6 6 6 1]]\n"
     ]
    }
   ],
   "source": [
    "# generating a randomly generated array of integers\n",
    "# Syntax : (start, stop(excluding this), (order of matrix formed))\n",
    "i1 = np.random.randint(0,10, (4,4))\n",
    "print(i1)"
   ]
  },
  {
   "cell_type": "code",
   "execution_count": 64,
   "metadata": {},
   "outputs": [
    {
     "name": "stdout",
     "output_type": "stream",
     "text": [
      "0 is the row [9 8 7 4]\n",
      "1 is the row [5 4 9 6]\n",
      "2 is the row [9 0 7 8]\n",
      "3 is the row [6 6 6 1]\n"
     ]
    }
   ],
   "source": [
    "#iterate by row and index\n",
    "\n",
    "for i, r in enumerate(i1):\n",
    "    print(i,  \"is the row\", r)"
   ]
  },
  {
   "cell_type": "code",
   "execution_count": 67,
   "metadata": {},
   "outputs": [
    {
     "name": "stdout",
     "output_type": "stream",
     "text": [
      "[9 8 7 4] + [81 64 49 16] = [90 72 56 20]\n",
      "[5 4 9 6] + [25 16 81 36] = [30 20 90 42]\n",
      "[9 0 7 8] + [81  0 49 64] = [90  0 56 72]\n",
      "[6 6 6 1] + [36 36 36  1] = [42 42 42  2]\n"
     ]
    }
   ],
   "source": [
    "# zip is used for multiple iterations\n",
    "\n",
    "i2 = i1**2\n",
    "\n",
    "for i, j in zip(i1, i2):\n",
    "    print(i, \"+\" ,j, \"=\", i+j)"
   ]
  },
  {
   "cell_type": "code",
   "execution_count": null,
   "metadata": {
    "collapsed": true
   },
   "outputs": [],
   "source": []
  }
 ],
 "metadata": {
  "kernelspec": {
   "display_name": "Python 3",
   "language": "python",
   "name": "python3"
  },
  "language_info": {
   "codemirror_mode": {
    "name": "ipython",
    "version": 3
   },
   "file_extension": ".py",
   "mimetype": "text/x-python",
   "name": "python",
   "nbconvert_exporter": "python",
   "pygments_lexer": "ipython3",
   "version": "3.6.3"
  }
 },
 "nbformat": 4,
 "nbformat_minor": 2
}
